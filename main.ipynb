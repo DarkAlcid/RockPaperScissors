{
 "cells": [
  {
   "cell_type": "code",
   "execution_count": 2,
   "metadata": {},
   "outputs": [],
   "source": [
    "import numpy as np\n",
    "import matplotlib.pyplot as plt\n",
    "import random"
   ]
  },
  {
   "cell_type": "code",
   "execution_count": 20,
   "metadata": {},
   "outputs": [],
   "source": [
    "moves = {\n",
    "    'Rock' : 0, \n",
    "    'Paper' : 1, \n",
    "    'Scissors' : 2\n",
    "}\n",
    "idx_moves = {\n",
    "    0 : 'Rock',\n",
    "    1 : 'Paper',\n",
    "    2 : 'Scissors'\n",
    "}\n",
    "mat_games = np.zeros((3,3))\n",
    "mat_games[moves['Rock'], moves['Scissors']] = 1\n",
    "mat_games[moves['Paper'], moves['Rock']] = 1\n",
    "mat_games[moves['Scissors'], moves['Paper']] = 1\n",
    "mat_games[moves['Rock'], moves['Paper']] = -1\n",
    "mat_games[moves['Paper'], moves['Scissors']] = -1\n",
    "mat_games[moves['Scissors'], moves['Rock']] = -1"
   ]
  },
  {
   "cell_type": "code",
   "execution_count": 16,
   "metadata": {},
   "outputs": [
    {
     "data": {
      "text/plain": [
       "array([[ 0., -1.,  1.],\n",
       "       [ 1.,  0., -1.],\n",
       "       [-1.,  1.,  0.]])"
      ]
     },
     "execution_count": 16,
     "metadata": {},
     "output_type": "execute_result"
    }
   ],
   "source": [
    "mat_games"
   ]
  },
  {
   "cell_type": "code",
   "execution_count": 22,
   "metadata": {},
   "outputs": [
    {
     "name": "stdout",
     "output_type": "stream",
     "text": [
      "Rock (0), Paper (1), Scissors(2), Quit(else) ? 2\n",
      "Scissors (Player) VS Paper (Computer)\n",
      "Win\n",
      "Rock (0), Paper (1), Scissors(2), Quit(else) ? 1\n",
      "Paper (Player) VS Paper (Computer)\n",
      "Draw\n",
      "Rock (0), Paper (1), Scissors(2), Quit(else) ? 3\n"
     ]
    }
   ],
   "source": [
    "while(True):\n",
    "    computer = random.randint(0, 2)\n",
    "    player = int(input('Rock (0), Paper (1), Scissors(2), Quit(else) ? '))\n",
    "    if player in range(0,3):\n",
    "        results = mat_games[player, computer]\n",
    "        print('{} (Player) VS {} (Computer)'.format(idx_moves[player], idx_moves[computer]))\n",
    "        if results == 0:\n",
    "            print('Draw')\n",
    "        elif results == 1:\n",
    "            print('Win')\n",
    "        else :\n",
    "            print('Lost')\n",
    "    else :\n",
    "        break"
   ]
  }
 ],
 "metadata": {
  "kernelspec": {
   "display_name": "Python 3",
   "language": "python",
   "name": "python3"
  },
  "language_info": {
   "codemirror_mode": {
    "name": "ipython",
    "version": 3
   },
   "file_extension": ".py",
   "mimetype": "text/x-python",
   "name": "python",
   "nbconvert_exporter": "python",
   "pygments_lexer": "ipython3",
   "version": "3.7.4"
  }
 },
 "nbformat": 4,
 "nbformat_minor": 2
}
